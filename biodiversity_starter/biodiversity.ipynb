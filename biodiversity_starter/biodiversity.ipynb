{
 "cells": [
  {
   "cell_type": "markdown",
   "metadata": {},
   "source": [
    "# Biodiversity in National Parks"
   ]
  },
  {
   "cell_type": "markdown",
   "metadata": {},
   "source": [
    "## Project Scoping"
   ]
  },
  {
   "cell_type": "markdown",
   "metadata": {},
   "source": [
    "### Goals"
   ]
  },
  {
   "cell_type": "markdown",
   "metadata": {},
   "source": [
    "First I want to get an overview over the situation of the biodiversity in national parks. After that I want to get insights for the following subjects:\n",
    "- Has there been an improvement or a deterioration in biodiversity?\n",
    "- How about future trends?\n",
    "- What are the reasons for improvement/deterioration?"
   ]
  },
  {
   "cell_type": "markdown",
   "metadata": {},
   "source": [
    "### Actions"
   ]
  },
  {
   "cell_type": "markdown",
   "metadata": {},
   "source": [
    "One factor could be the amount of capital a national park has for investing in their biodiversity. "
   ]
  },
  {
   "cell_type": "markdown",
   "metadata": {},
   "source": [
    "### Data"
   ]
  },
  {
   "cell_type": "markdown",
   "metadata": {},
   "source": [
    "The data is gathered from the National Parks Service about endangered species in different parks."
   ]
  },
  {
   "cell_type": "markdown",
   "metadata": {},
   "source": [
    "### Analysis"
   ]
  },
  {
   "cell_type": "markdown",
   "metadata": {},
   "source": [
    "Following steps are given:\n",
    "- Data Wrangling and Tidying\n",
    "- Data Manipulation with Pandas\n",
    "- Data Visualization\n",
    "- Hypothesis Testing\n",
    "- Summarizing Quantitative Data"
   ]
  },
  {
   "cell_type": "markdown",
   "metadata": {},
   "source": [
    "## Exploratory Data Analysis"
   ]
  },
  {
   "cell_type": "code",
   "execution_count": 1,
   "metadata": {},
   "outputs": [],
   "source": [
    "# Importing libraries\n",
    "import pandas as pd\n",
    "import numpy as np\n",
    "import matplotlib.pyplot as plt\n",
    "import seaborn as sns"
   ]
  },
  {
   "cell_type": "code",
   "execution_count": 2,
   "metadata": {
    "scrolled": false
   },
   "outputs": [
    {
     "name": "stdout",
     "output_type": "stream",
     "text": [
      "  category                scientific_name  \\\n",
      "0   Mammal  Clethrionomys gapperi gapperi   \n",
      "1   Mammal                      Bos bison   \n",
      "2   Mammal                     Bos taurus   \n",
      "3   Mammal                     Ovis aries   \n",
      "4   Mammal                 Cervus elaphus   \n",
      "\n",
      "                                        common_names conservation_status  \n",
      "0                           Gapper's Red-Backed Vole                 NaN  \n",
      "1                              American Bison, Bison                 NaN  \n",
      "2  Aurochs, Aurochs, Domestic Cattle (Feral), Dom...                 NaN  \n",
      "3  Domestic Sheep, Mouflon, Red Sheep, Sheep (Feral)                 NaN  \n",
      "4                                      Wapiti Or Elk                 NaN  \n"
     ]
    }
   ],
   "source": [
    "# Loading csv files\n",
    "species_info = pd.read_csv(\"species_info.csv\")\n",
    "print(species_info.head())"
   ]
  },
  {
   "cell_type": "code",
   "execution_count": 3,
   "metadata": {},
   "outputs": [
    {
     "name": "stdout",
     "output_type": "stream",
     "text": [
      "            scientific_name                            park_name  observations\n",
      "0        Vicia benghalensis  Great Smoky Mountains National Park            68\n",
      "1            Neovison vison  Great Smoky Mountains National Park            77\n",
      "2         Prunus subcordata               Yosemite National Park           138\n",
      "3      Abutilon theophrasti                  Bryce National Park            84\n",
      "4  Githopsis specularioides  Great Smoky Mountains National Park            85\n"
     ]
    }
   ],
   "source": [
    "observation = pd.read_csv(\"observations.csv\")\n",
    "print(observation.head())"
   ]
  },
  {
   "cell_type": "code",
   "execution_count": 4,
   "metadata": {},
   "outputs": [
    {
     "name": "stdout",
     "output_type": "stream",
     "text": [
      "              category scientific_name        common_names conservation_status\n",
      "count             5824            5824                5824                 191\n",
      "unique               7            5541                5504                   4\n",
      "top     Vascular Plant  Holcus lanatus  Brachythecium Moss  Species of Concern\n",
      "freq              4470               3                   7                 161\n",
      "<class 'pandas.core.frame.DataFrame'>\n",
      "RangeIndex: 5824 entries, 0 to 5823\n",
      "Data columns (total 4 columns):\n",
      " #   Column               Non-Null Count  Dtype \n",
      "---  ------               --------------  ----- \n",
      " 0   category             5824 non-null   object\n",
      " 1   scientific_name      5824 non-null   object\n",
      " 2   common_names         5824 non-null   object\n",
      " 3   conservation_status  191 non-null    object\n",
      "dtypes: object(4)\n",
      "memory usage: 182.1+ KB\n",
      "None\n"
     ]
    }
   ],
   "source": [
    "# overview of species_info\n",
    "print(species_info.describe())\n",
    "print(species_info.info())"
   ]
  },
  {
   "cell_type": "code",
   "execution_count": 5,
   "metadata": {},
   "outputs": [
    {
     "name": "stdout",
     "output_type": "stream",
     "text": [
      "       observations\n",
      "count  23296.000000\n",
      "mean     142.287904\n",
      "std       69.890532\n",
      "min        9.000000\n",
      "25%       86.000000\n",
      "50%      124.000000\n",
      "75%      195.000000\n",
      "max      321.000000\n"
     ]
    }
   ],
   "source": [
    "# overview of obersvations\n",
    "print(observation.describe())"
   ]
  },
  {
   "cell_type": "code",
   "execution_count": 6,
   "metadata": {},
   "outputs": [
    {
     "name": "stdout",
     "output_type": "stream",
     "text": [
      "[nan 'Species of Concern' 'Endangered' 'Threatened' 'In Recovery']\n"
     ]
    }
   ],
   "source": [
    "# what types do we have?\n",
    "print(species_info.conservation_status.unique())"
   ]
  },
  {
   "cell_type": "code",
   "execution_count": 7,
   "metadata": {},
   "outputs": [],
   "source": [
    "# let's look at the distribution of conservation_status\n",
    "# But before we need to drop the rows with NaN values, since this won't show a histogram\n",
    "species_info.dropna(subset=['conservation_status'], inplace = True)\n",
    "print(species_info.describe())"
   ]
  },
  {
   "cell_type": "code",
   "execution_count": 11,
   "metadata": {},
   "outputs": [
    {
     "data": {
      "image/png": "[encoded data removed]",
      "text/plain": [
       "<Figure size 720x720 with 1 Axes>"
      ]
     },
     "metadata": {
      "needs_background": "light"
     },
     "output_type": "display_data"
    },
    {
     "data": {
      "text/plain": [
       "<Figure size 432x288 with 0 Axes>"
      ]
     },
     "metadata": {},
     "output_type": "display_data"
    }
   ],
   "source": [
    "# Now we create a histogram to look at the distribution of conservation_status\n",
    "plt.figure(figsize=(10,10))\n",
    "sns.histplot(data=species_info, x=\"conservation_status\")\n",
    "plt.title(\"Distribution of Conservation Status\")\n",
    "plt.show()\n",
    "plt.clf()"
   ]
  },
  {
   "cell_type": "code",
   "execution_count": 13,
   "metadata": {},
   "outputs": [
    {
     "name": "stdout",
     "output_type": "stream",
     "text": [
      "            category               scientific_name  \\\n",
      "8             Mammal                   Canis lupus   \n",
      "9             Mammal                   Canis rufus   \n",
      "34            Mammal             Myotis grisescens   \n",
      "39            Mammal                Myotis sodalis   \n",
      "72            Mammal  Glaucomys sabrinus coloratus   \n",
      "173             Bird                Grus americana   \n",
      "276             Bird           Vermivora bachmanii   \n",
      "343             Bird             Picoides borealis   \n",
      "540             Fish          Etheostoma percnurum   \n",
      "570             Fish               Noturus baileyi   \n",
      "2497  Vascular Plant                 Geum radiatum   \n",
      "3275            Fish             Chasmistes liorus   \n",
      "4446          Mammal       Ovis canadensis sierrae   \n",
      "4448          Mammal                   Canis lupus   \n",
      "4505            Bird       Gymnogyps californianus   \n",
      "4601       Amphibian                  Rana sierrae   \n",
      "\n",
      "                                           common_names conservation_status  \n",
      "8                                             Gray Wolf          Endangered  \n",
      "9                                              Red Wolf          Endangered  \n",
      "34                                          Gray Myotis          Endangered  \n",
      "39                Indiana Bat, Indiana Or Social Myotis          Endangered  \n",
      "72    Carolina Northern Flying Squirrel, Northern Fl...          Endangered  \n",
      "173                                      Whooping Crane          Endangered  \n",
      "276           Bachman's Warbler, Bachman's Wood Warbler          Endangered  \n",
      "343                             Red-Cockaded Woodpecker          Endangered  \n",
      "540                                    Duskytail Darter          Endangered  \n",
      "570                                        Smoky Madtom          Endangered  \n",
      "2497                    Mountain Avens, Spreading Avens          Endangered  \n",
      "3275                                        June Sucker          Endangered  \n",
      "4446                        Sierra Nevada Bighorn Sheep          Endangered  \n",
      "4448                                    Gray Wolf, Wolf          Endangered  \n",
      "4505                                  California Condor          Endangered  \n",
      "4601                   Sierra Nevada Yellow-Legged Frog          Endangered  \n"
     ]
    }
   ],
   "source": [
    "# let's look at the endangered animals\n",
    "endangered = species_info[species_info['conservation_status'] == 'Endangered']\n",
    "print(endangered)"
   ]
  },
  {
   "cell_type": "code",
   "execution_count": 15,
   "metadata": {},
   "outputs": [
    {
     "data": {
      "image/png": "[encoded data removed]",
      "text/plain": [
       "<Figure size 720x720 with 1 Axes>"
      ]
     },
     "metadata": {
      "needs_background": "light"
     },
     "output_type": "display_data"
    },
    {
     "data": {
      "text/plain": [
       "<Figure size 432x288 with 0 Axes>"
      ]
     },
     "metadata": {},
     "output_type": "display_data"
    }
   ],
   "source": [
    "plt.figure(figsize=(10,10))\n",
    "sns.histplot(data=endangered, x=\"category\")\n",
    "plt.title(\"Distribution of endangered animal categories\")\n",
    "plt.show()\n",
    "plt.clf()"
   ]
  },
  {
   "cell_type": "code",
   "execution_count": null,
   "metadata": {},
   "outputs": [],
   "source": []
  }
 ],
 "metadata": {
  "kernelspec": {
   "display_name": "Python 3",
   "language": "python",
   "name": "python3"
  },
  "language_info": {
   "codemirror_mode": {
    "name": "ipython",
    "version": 3
   },
   "file_extension": ".py",
   "mimetype": "text/x-python",
   "name": "python",
   "nbconvert_exporter": "python",
   "pygments_lexer": "ipython3",
   "version": "3.8.5"
  }
 },
 "nbformat": 4,
 "nbformat_minor": 4
}
